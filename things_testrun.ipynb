{
 "cells": [
  {
   "cell_type": "code",
   "execution_count": null,
   "id": "811be599-6477-4c43-b7ba-2abe2e60f7ea",
   "metadata": {},
   "outputs": [
    {
     "name": "stdout",
     "output_type": "stream",
     "text": [
      "{'lr': 0.00025, 'min_lr': 0.0, 'weight_decay': 0.05, 'num_epoch': 200, 'warmup_epochs': 40, 'batch_size': 16, 'clip_grad': 0.8, 'mask_ratio': 0.75, 'patch_size': 16, 'embed_dim': 1024, 'decoder_embed_dim': 512, 'depth': 24, 'num_heads': 16, 'decoder_num_heads': 16, 'mlp_ratio': 1.0, 'root_path': '.', 'output_path': './results/fmri_pretrain/07-11-2023-22-49-43', 'seed': 2022, 'roi': 'VC', 'aug_times': 1, 'num_sub_limit': None, 'include_hcp': True, 'include_kam': True, 'accum_iter': 1, 'use_nature_img_loss': False, 'img_recon_weight': 0.5, 'focus_range': None, 'focus_rate': 0.6, 'local_rank': 0, 'dataset': 'things', 'subject': '01'}\n",
      "Dataset size: 3198\n",
      "Number of voxels: 8656\n",
      "AdamW (\n",
      "Parameter Group 0\n",
      "    amsgrad: False\n",
      "    betas: (0.9, 0.95)\n",
      "    capturable: False\n",
      "    differentiable: False\n",
      "    eps: 1e-08\n",
      "    foreach: None\n",
      "    fused: None\n",
      "    lr: 0.00025\n",
      "    maximize: False\n",
      "    weight_decay: 0.0\n",
      "\n",
      "Parameter Group 1\n",
      "    amsgrad: False\n",
      "    betas: (0.9, 0.95)\n",
      "    capturable: False\n",
      "    differentiable: False\n",
      "    eps: 1e-08\n",
      "    foreach: None\n",
      "    fused: None\n",
      "    lr: 0.00025\n",
      "    maximize: False\n",
      "    weight_decay: 0.05\n",
      ")\n",
      "Start Training the fmri MAE ... ...\n"
     ]
    }
   ],
   "source": [
    "! python code/stageA1_mbm_pretrain.py --batch_size 16 --subject 01 --patch_size 16 --dataset things --num_epoch 200"
   ]
  },
  {
   "cell_type": "code",
   "execution_count": null,
   "id": "1325692b-0e73-4bcf-bc64-0da1598620ee",
   "metadata": {},
   "outputs": [],
   "source": [
    "!python code/stageA2_mbm_finetune.py --dataset things --batch_size 16 --subject 01 -- num_epoch 150 \\\n",
    "            --pretrain_mbm_path results/fmri_pretrain/07-11-2023-22-42-36/checkpoints/checkpoint.pth"
   ]
  },
  {
   "cell_type": "code",
   "execution_count": null,
   "id": "c4cba254-3465-4108-b8e3-b5bbc41d428e",
   "metadata": {},
   "outputs": [],
   "source": [
    "!sleep 10 && pkill tmux"
   ]
  }
 ],
 "metadata": {
  "kernelspec": {
   "display_name": "Python 3 (ipykernel)",
   "language": "python",
   "name": "python3"
  },
  "language_info": {
   "codemirror_mode": {
    "name": "ipython",
    "version": 3
   },
   "file_extension": ".py",
   "mimetype": "text/x-python",
   "name": "python",
   "nbconvert_exporter": "python",
   "pygments_lexer": "ipython3",
   "version": "3.8.5"
  }
 },
 "nbformat": 4,
 "nbformat_minor": 5
}
